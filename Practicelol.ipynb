{
 "cells": [
  {
   "cell_type": "code",
   "execution_count": 3,
   "id": "ffdc8a41-87cc-424d-8e92-af98c8fbfcb6",
   "metadata": {},
   "outputs": [
    {
     "data": {
      "text/plain": [
       "int"
      ]
     },
     "execution_count": 3,
     "metadata": {},
     "output_type": "execute_result"
    }
   ],
   "source": [
    "mystring = \"It has been a lovely day.\"\n",
    "approx_pi = 3.1415\n",
    "number_of_planets = 9\n",
    "\n",
    "type(mystring)            # str\n",
    "type(approx_pi)           # float\n",
    "type(number_of_planets)   # int\n"
   ]
  },
  {
   "cell_type": "code",
   "execution_count": 4,
   "id": "d0e8b074",
   "metadata": {},
   "outputs": [
    {
     "data": {
      "text/plain": [
       "str"
      ]
     },
     "execution_count": 4,
     "metadata": {},
     "output_type": "execute_result"
    }
   ],
   "source": [
    "type(mystring)   "
   ]
  },
  {
   "cell_type": "code",
   "execution_count": 11,
   "id": "8a291fcd",
   "metadata": {},
   "outputs": [
    {
     "data": {
      "text/plain": [
       "'It has been a lovely day.'"
      ]
     },
     "execution_count": 11,
     "metadata": {},
     "output_type": "execute_result"
    }
   ],
   "source": [
    "mystring"
   ]
  },
  {
   "cell_type": "code",
   "execution_count": 2,
   "id": "585f1abe",
   "metadata": {},
   "outputs": [
    {
     "name": "stdout",
     "output_type": "stream",
     "text": [
      "13\n"
     ]
    }
   ],
   "source": [
    "age = input(\"Your age? \")   # '23'（字符串）\n",
    "age = int(age)              # 23（整数）\n",
    "print(age + 1)              # 24\n"
   ]
  },
  {
   "cell_type": "code",
   "execution_count": 15,
   "id": "938fbd89-2a68-4d45-9e49-67b7ae15e03a",
   "metadata": {},
   "outputs": [
    {
     "name": "stdout",
     "output_type": "stream",
     "text": [
      "4\n",
      "192\n"
     ]
    }
   ],
   "source": [
    "print(1+3)\n",
    "print(191+1)\n"
   ]
  },
  {
   "cell_type": "code",
   "execution_count": 8,
   "id": "b1765070-b1e9-4a6c-bd5c-33d0cf246623",
   "metadata": {},
   "outputs": [
    {
     "name": "stdout",
     "output_type": "stream",
     "text": [
      "Cool\n",
      "Freezing cold\n",
      "Warm or hot\n"
     ]
    }
   ],
   "source": [
    "def check_temperature(t):\n",
    "    if t < 0:\n",
    "        print(\"Freezing cold\")\n",
    "    elif t < 20:\n",
    "        print(\"Cool\")\n",
    "    else:\n",
    "        print(\"Warm or hot\")\n",
    "\n",
    "check_temperature(15)   # Cool\n",
    "check_temperature(-5)   # Freezing cold\n",
    "check_temperature(30)   # Warm or hot\n"
   ]
  },
  {
   "cell_type": "code",
   "execution_count": 13,
   "id": "4994670b-fb07-4aeb-a2ff-c98b74a1bc96",
   "metadata": {},
   "outputs": [],
   "source": [
    "def greet(name):\n",
    "    print(\"Hello,\", name)\n",
    "    print(\"How are you today?\")\n"
   ]
  },
  {
   "cell_type": "code",
   "execution_count": 16,
   "id": "514017f5",
   "metadata": {},
   "outputs": [
    {
     "name": "stdout",
     "output_type": "stream",
     "text": [
      "That was not a number, please try again.\n"
     ]
    }
   ],
   "source": [
    "prompt = \"Enter a number: \"\n",
    "speed = input(prompt)\n",
    "\n",
    "try:\n",
    "    value = int(speed)\n",
    "    print(\"You entered number:\", value)\n",
    "except ValueError:\n",
    "    print(\"That was not a number, please try again.\")\n"
   ]
  },
  {
   "cell_type": "code",
   "execution_count": 14,
   "id": "319951a3",
   "metadata": {},
   "outputs": [
    {
     "name": "stdout",
     "output_type": "stream",
     "text": [
      "Hello, Alice\n",
      "How are you today?\n",
      "Hello, Bob\n",
      "How are you today?\n"
     ]
    }
   ],
   "source": [
    "greet(\"Alice\")\n",
    "greet(\"Bob\")\n"
   ]
  }
 ],
 "metadata": {
  "kernelspec": {
   "display_name": "base",
   "language": "python",
   "name": "python3"
  },
  "language_info": {
   "codemirror_mode": {
    "name": "ipython",
    "version": 3
   },
   "file_extension": ".py",
   "mimetype": "text/x-python",
   "name": "python",
   "nbconvert_exporter": "python",
   "pygments_lexer": "ipython3",
   "version": "3.12.2"
  }
 },
 "nbformat": 4,
 "nbformat_minor": 5
}
